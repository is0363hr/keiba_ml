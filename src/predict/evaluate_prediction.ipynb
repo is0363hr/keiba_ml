{
 "cells": [
  {
   "cell_type": "markdown",
   "metadata": {},
   "source": [
    "# train_hyperasの確認"
   ]
  },
  {
   "cell_type": "code",
   "execution_count": 1,
   "metadata": {},
   "outputs": [],
   "source": [
    "import numpy as np\n",
    "import pandas as pd\n",
    "#最大表示列数の指定\n",
    "pd.set_option('display.max_columns', 300)\n",
    "\n",
    "%matplotlib inline \n",
    "import matplotlib.pyplot as plt\n",
    "\n",
    "plt.style.use('ggplot') "
   ]
  },
  {
   "cell_type": "code",
   "execution_count": 2,
   "metadata": {},
   "outputs": [
    {
     "name": "stderr",
     "output_type": "stream",
     "text": [
      "/var/folders/cr/c0bln9j166v8pyh2cr3g51lm0000gr/T/ipykernel_21454/2104096674.py:2: DtypeWarning: Columns (15) have mixed types. Specify dtype option on import or set low_memory=False.\n",
      "  horse_df = pd.read_csv(\"../collect_data/csv/cleaned_horse_data.csv\", sep=\",\")\n"
     ]
    }
   ],
   "source": [
    "race_df = pd.read_csv(\"../collect_data/csv/cleaned_race_data.csv\", sep=\",\")\n",
    "horse_df = pd.read_csv(\"../collect_data/csv/cleaned_horse_data.csv\", sep=\",\")"
   ]
  },
  {
   "cell_type": "code",
   "execution_count": 3,
   "metadata": {},
   "outputs": [
    {
     "ename": "FileNotFoundError",
     "evalue": "[Errno 2] No such file or directory: './predict/data/train_hyperas_predicted_test.csv'",
     "output_type": "error",
     "traceback": [
      "\u001b[0;31m---------------------------------------------------------------------------\u001b[0m",
      "\u001b[0;31mFileNotFoundError\u001b[0m                         Traceback (most recent call last)",
      "Input \u001b[0;32mIn [3]\u001b[0m, in \u001b[0;36m<cell line: 2>\u001b[0;34m()\u001b[0m\n\u001b[1;32m      1\u001b[0m \u001b[38;5;66;03m#predict_result = pd.read_csv(\"./predict/train_simple_predicted_test.csv\", sep=\",\")\u001b[39;00m\n\u001b[0;32m----> 2\u001b[0m predict_result \u001b[38;5;241m=\u001b[39m \u001b[43mpd\u001b[49m\u001b[38;5;241;43m.\u001b[39;49m\u001b[43mread_csv\u001b[49m\u001b[43m(\u001b[49m\u001b[38;5;124;43m\"\u001b[39;49m\u001b[38;5;124;43m./predict/data/train_hyperas_predicted_test.csv\u001b[39;49m\u001b[38;5;124;43m\"\u001b[39;49m\u001b[43m,\u001b[49m\u001b[43m \u001b[49m\u001b[43msep\u001b[49m\u001b[38;5;241;43m=\u001b[39;49m\u001b[38;5;124;43m\"\u001b[39;49m\u001b[38;5;124;43m,\u001b[39;49m\u001b[38;5;124;43m\"\u001b[39;49m\u001b[43m)\u001b[49m\n",
      "File \u001b[0;32m~/python-venv/hobby/lib/python3.8/site-packages/pandas/util/_decorators.py:311\u001b[0m, in \u001b[0;36mdeprecate_nonkeyword_arguments.<locals>.decorate.<locals>.wrapper\u001b[0;34m(*args, **kwargs)\u001b[0m\n\u001b[1;32m    305\u001b[0m \u001b[38;5;28;01mif\u001b[39;00m \u001b[38;5;28mlen\u001b[39m(args) \u001b[38;5;241m>\u001b[39m num_allow_args:\n\u001b[1;32m    306\u001b[0m     warnings\u001b[38;5;241m.\u001b[39mwarn(\n\u001b[1;32m    307\u001b[0m         msg\u001b[38;5;241m.\u001b[39mformat(arguments\u001b[38;5;241m=\u001b[39marguments),\n\u001b[1;32m    308\u001b[0m         \u001b[38;5;167;01mFutureWarning\u001b[39;00m,\n\u001b[1;32m    309\u001b[0m         stacklevel\u001b[38;5;241m=\u001b[39mstacklevel,\n\u001b[1;32m    310\u001b[0m     )\n\u001b[0;32m--> 311\u001b[0m \u001b[38;5;28;01mreturn\u001b[39;00m \u001b[43mfunc\u001b[49m\u001b[43m(\u001b[49m\u001b[38;5;241;43m*\u001b[39;49m\u001b[43margs\u001b[49m\u001b[43m,\u001b[49m\u001b[43m \u001b[49m\u001b[38;5;241;43m*\u001b[39;49m\u001b[38;5;241;43m*\u001b[39;49m\u001b[43mkwargs\u001b[49m\u001b[43m)\u001b[49m\n",
      "File \u001b[0;32m~/python-venv/hobby/lib/python3.8/site-packages/pandas/io/parsers/readers.py:680\u001b[0m, in \u001b[0;36mread_csv\u001b[0;34m(filepath_or_buffer, sep, delimiter, header, names, index_col, usecols, squeeze, prefix, mangle_dupe_cols, dtype, engine, converters, true_values, false_values, skipinitialspace, skiprows, skipfooter, nrows, na_values, keep_default_na, na_filter, verbose, skip_blank_lines, parse_dates, infer_datetime_format, keep_date_col, date_parser, dayfirst, cache_dates, iterator, chunksize, compression, thousands, decimal, lineterminator, quotechar, quoting, doublequote, escapechar, comment, encoding, encoding_errors, dialect, error_bad_lines, warn_bad_lines, on_bad_lines, delim_whitespace, low_memory, memory_map, float_precision, storage_options)\u001b[0m\n\u001b[1;32m    665\u001b[0m kwds_defaults \u001b[38;5;241m=\u001b[39m _refine_defaults_read(\n\u001b[1;32m    666\u001b[0m     dialect,\n\u001b[1;32m    667\u001b[0m     delimiter,\n\u001b[0;32m   (...)\u001b[0m\n\u001b[1;32m    676\u001b[0m     defaults\u001b[38;5;241m=\u001b[39m{\u001b[38;5;124m\"\u001b[39m\u001b[38;5;124mdelimiter\u001b[39m\u001b[38;5;124m\"\u001b[39m: \u001b[38;5;124m\"\u001b[39m\u001b[38;5;124m,\u001b[39m\u001b[38;5;124m\"\u001b[39m},\n\u001b[1;32m    677\u001b[0m )\n\u001b[1;32m    678\u001b[0m kwds\u001b[38;5;241m.\u001b[39mupdate(kwds_defaults)\n\u001b[0;32m--> 680\u001b[0m \u001b[38;5;28;01mreturn\u001b[39;00m \u001b[43m_read\u001b[49m\u001b[43m(\u001b[49m\u001b[43mfilepath_or_buffer\u001b[49m\u001b[43m,\u001b[49m\u001b[43m \u001b[49m\u001b[43mkwds\u001b[49m\u001b[43m)\u001b[49m\n",
      "File \u001b[0;32m~/python-venv/hobby/lib/python3.8/site-packages/pandas/io/parsers/readers.py:575\u001b[0m, in \u001b[0;36m_read\u001b[0;34m(filepath_or_buffer, kwds)\u001b[0m\n\u001b[1;32m    572\u001b[0m _validate_names(kwds\u001b[38;5;241m.\u001b[39mget(\u001b[38;5;124m\"\u001b[39m\u001b[38;5;124mnames\u001b[39m\u001b[38;5;124m\"\u001b[39m, \u001b[38;5;28;01mNone\u001b[39;00m))\n\u001b[1;32m    574\u001b[0m \u001b[38;5;66;03m# Create the parser.\u001b[39;00m\n\u001b[0;32m--> 575\u001b[0m parser \u001b[38;5;241m=\u001b[39m \u001b[43mTextFileReader\u001b[49m\u001b[43m(\u001b[49m\u001b[43mfilepath_or_buffer\u001b[49m\u001b[43m,\u001b[49m\u001b[43m \u001b[49m\u001b[38;5;241;43m*\u001b[39;49m\u001b[38;5;241;43m*\u001b[39;49m\u001b[43mkwds\u001b[49m\u001b[43m)\u001b[49m\n\u001b[1;32m    577\u001b[0m \u001b[38;5;28;01mif\u001b[39;00m chunksize \u001b[38;5;129;01mor\u001b[39;00m iterator:\n\u001b[1;32m    578\u001b[0m     \u001b[38;5;28;01mreturn\u001b[39;00m parser\n",
      "File \u001b[0;32m~/python-venv/hobby/lib/python3.8/site-packages/pandas/io/parsers/readers.py:934\u001b[0m, in \u001b[0;36mTextFileReader.__init__\u001b[0;34m(self, f, engine, **kwds)\u001b[0m\n\u001b[1;32m    931\u001b[0m     \u001b[38;5;28mself\u001b[39m\u001b[38;5;241m.\u001b[39moptions[\u001b[38;5;124m\"\u001b[39m\u001b[38;5;124mhas_index_names\u001b[39m\u001b[38;5;124m\"\u001b[39m] \u001b[38;5;241m=\u001b[39m kwds[\u001b[38;5;124m\"\u001b[39m\u001b[38;5;124mhas_index_names\u001b[39m\u001b[38;5;124m\"\u001b[39m]\n\u001b[1;32m    933\u001b[0m \u001b[38;5;28mself\u001b[39m\u001b[38;5;241m.\u001b[39mhandles: IOHandles \u001b[38;5;241m|\u001b[39m \u001b[38;5;28;01mNone\u001b[39;00m \u001b[38;5;241m=\u001b[39m \u001b[38;5;28;01mNone\u001b[39;00m\n\u001b[0;32m--> 934\u001b[0m \u001b[38;5;28mself\u001b[39m\u001b[38;5;241m.\u001b[39m_engine \u001b[38;5;241m=\u001b[39m \u001b[38;5;28;43mself\u001b[39;49m\u001b[38;5;241;43m.\u001b[39;49m\u001b[43m_make_engine\u001b[49m\u001b[43m(\u001b[49m\u001b[43mf\u001b[49m\u001b[43m,\u001b[49m\u001b[43m \u001b[49m\u001b[38;5;28;43mself\u001b[39;49m\u001b[38;5;241;43m.\u001b[39;49m\u001b[43mengine\u001b[49m\u001b[43m)\u001b[49m\n",
      "File \u001b[0;32m~/python-venv/hobby/lib/python3.8/site-packages/pandas/io/parsers/readers.py:1218\u001b[0m, in \u001b[0;36mTextFileReader._make_engine\u001b[0;34m(self, f, engine)\u001b[0m\n\u001b[1;32m   1214\u001b[0m     mode \u001b[38;5;241m=\u001b[39m \u001b[38;5;124m\"\u001b[39m\u001b[38;5;124mrb\u001b[39m\u001b[38;5;124m\"\u001b[39m\n\u001b[1;32m   1215\u001b[0m \u001b[38;5;66;03m# error: No overload variant of \"get_handle\" matches argument types\u001b[39;00m\n\u001b[1;32m   1216\u001b[0m \u001b[38;5;66;03m# \"Union[str, PathLike[str], ReadCsvBuffer[bytes], ReadCsvBuffer[str]]\"\u001b[39;00m\n\u001b[1;32m   1217\u001b[0m \u001b[38;5;66;03m# , \"str\", \"bool\", \"Any\", \"Any\", \"Any\", \"Any\", \"Any\"\u001b[39;00m\n\u001b[0;32m-> 1218\u001b[0m \u001b[38;5;28mself\u001b[39m\u001b[38;5;241m.\u001b[39mhandles \u001b[38;5;241m=\u001b[39m \u001b[43mget_handle\u001b[49m\u001b[43m(\u001b[49m\u001b[43m  \u001b[49m\u001b[38;5;66;43;03m# type: ignore[call-overload]\u001b[39;49;00m\n\u001b[1;32m   1219\u001b[0m \u001b[43m    \u001b[49m\u001b[43mf\u001b[49m\u001b[43m,\u001b[49m\n\u001b[1;32m   1220\u001b[0m \u001b[43m    \u001b[49m\u001b[43mmode\u001b[49m\u001b[43m,\u001b[49m\n\u001b[1;32m   1221\u001b[0m \u001b[43m    \u001b[49m\u001b[43mencoding\u001b[49m\u001b[38;5;241;43m=\u001b[39;49m\u001b[38;5;28;43mself\u001b[39;49m\u001b[38;5;241;43m.\u001b[39;49m\u001b[43moptions\u001b[49m\u001b[38;5;241;43m.\u001b[39;49m\u001b[43mget\u001b[49m\u001b[43m(\u001b[49m\u001b[38;5;124;43m\"\u001b[39;49m\u001b[38;5;124;43mencoding\u001b[39;49m\u001b[38;5;124;43m\"\u001b[39;49m\u001b[43m,\u001b[49m\u001b[43m \u001b[49m\u001b[38;5;28;43;01mNone\u001b[39;49;00m\u001b[43m)\u001b[49m\u001b[43m,\u001b[49m\n\u001b[1;32m   1222\u001b[0m \u001b[43m    \u001b[49m\u001b[43mcompression\u001b[49m\u001b[38;5;241;43m=\u001b[39;49m\u001b[38;5;28;43mself\u001b[39;49m\u001b[38;5;241;43m.\u001b[39;49m\u001b[43moptions\u001b[49m\u001b[38;5;241;43m.\u001b[39;49m\u001b[43mget\u001b[49m\u001b[43m(\u001b[49m\u001b[38;5;124;43m\"\u001b[39;49m\u001b[38;5;124;43mcompression\u001b[39;49m\u001b[38;5;124;43m\"\u001b[39;49m\u001b[43m,\u001b[49m\u001b[43m \u001b[49m\u001b[38;5;28;43;01mNone\u001b[39;49;00m\u001b[43m)\u001b[49m\u001b[43m,\u001b[49m\n\u001b[1;32m   1223\u001b[0m \u001b[43m    \u001b[49m\u001b[43mmemory_map\u001b[49m\u001b[38;5;241;43m=\u001b[39;49m\u001b[38;5;28;43mself\u001b[39;49m\u001b[38;5;241;43m.\u001b[39;49m\u001b[43moptions\u001b[49m\u001b[38;5;241;43m.\u001b[39;49m\u001b[43mget\u001b[49m\u001b[43m(\u001b[49m\u001b[38;5;124;43m\"\u001b[39;49m\u001b[38;5;124;43mmemory_map\u001b[39;49m\u001b[38;5;124;43m\"\u001b[39;49m\u001b[43m,\u001b[49m\u001b[43m \u001b[49m\u001b[38;5;28;43;01mFalse\u001b[39;49;00m\u001b[43m)\u001b[49m\u001b[43m,\u001b[49m\n\u001b[1;32m   1224\u001b[0m \u001b[43m    \u001b[49m\u001b[43mis_text\u001b[49m\u001b[38;5;241;43m=\u001b[39;49m\u001b[43mis_text\u001b[49m\u001b[43m,\u001b[49m\n\u001b[1;32m   1225\u001b[0m \u001b[43m    \u001b[49m\u001b[43merrors\u001b[49m\u001b[38;5;241;43m=\u001b[39;49m\u001b[38;5;28;43mself\u001b[39;49m\u001b[38;5;241;43m.\u001b[39;49m\u001b[43moptions\u001b[49m\u001b[38;5;241;43m.\u001b[39;49m\u001b[43mget\u001b[49m\u001b[43m(\u001b[49m\u001b[38;5;124;43m\"\u001b[39;49m\u001b[38;5;124;43mencoding_errors\u001b[39;49m\u001b[38;5;124;43m\"\u001b[39;49m\u001b[43m,\u001b[49m\u001b[43m \u001b[49m\u001b[38;5;124;43m\"\u001b[39;49m\u001b[38;5;124;43mstrict\u001b[39;49m\u001b[38;5;124;43m\"\u001b[39;49m\u001b[43m)\u001b[49m\u001b[43m,\u001b[49m\n\u001b[1;32m   1226\u001b[0m \u001b[43m    \u001b[49m\u001b[43mstorage_options\u001b[49m\u001b[38;5;241;43m=\u001b[39;49m\u001b[38;5;28;43mself\u001b[39;49m\u001b[38;5;241;43m.\u001b[39;49m\u001b[43moptions\u001b[49m\u001b[38;5;241;43m.\u001b[39;49m\u001b[43mget\u001b[49m\u001b[43m(\u001b[49m\u001b[38;5;124;43m\"\u001b[39;49m\u001b[38;5;124;43mstorage_options\u001b[39;49m\u001b[38;5;124;43m\"\u001b[39;49m\u001b[43m,\u001b[49m\u001b[43m \u001b[49m\u001b[38;5;28;43;01mNone\u001b[39;49;00m\u001b[43m)\u001b[49m\u001b[43m,\u001b[49m\n\u001b[1;32m   1227\u001b[0m \u001b[43m\u001b[49m\u001b[43m)\u001b[49m\n\u001b[1;32m   1228\u001b[0m \u001b[38;5;28;01massert\u001b[39;00m \u001b[38;5;28mself\u001b[39m\u001b[38;5;241m.\u001b[39mhandles \u001b[38;5;129;01mis\u001b[39;00m \u001b[38;5;129;01mnot\u001b[39;00m \u001b[38;5;28;01mNone\u001b[39;00m\n\u001b[1;32m   1229\u001b[0m f \u001b[38;5;241m=\u001b[39m \u001b[38;5;28mself\u001b[39m\u001b[38;5;241m.\u001b[39mhandles\u001b[38;5;241m.\u001b[39mhandle\n",
      "File \u001b[0;32m~/python-venv/hobby/lib/python3.8/site-packages/pandas/io/common.py:786\u001b[0m, in \u001b[0;36mget_handle\u001b[0;34m(path_or_buf, mode, encoding, compression, memory_map, is_text, errors, storage_options)\u001b[0m\n\u001b[1;32m    781\u001b[0m \u001b[38;5;28;01melif\u001b[39;00m \u001b[38;5;28misinstance\u001b[39m(handle, \u001b[38;5;28mstr\u001b[39m):\n\u001b[1;32m    782\u001b[0m     \u001b[38;5;66;03m# Check whether the filename is to be opened in binary mode.\u001b[39;00m\n\u001b[1;32m    783\u001b[0m     \u001b[38;5;66;03m# Binary mode does not support 'encoding' and 'newline'.\u001b[39;00m\n\u001b[1;32m    784\u001b[0m     \u001b[38;5;28;01mif\u001b[39;00m ioargs\u001b[38;5;241m.\u001b[39mencoding \u001b[38;5;129;01mand\u001b[39;00m \u001b[38;5;124m\"\u001b[39m\u001b[38;5;124mb\u001b[39m\u001b[38;5;124m\"\u001b[39m \u001b[38;5;129;01mnot\u001b[39;00m \u001b[38;5;129;01min\u001b[39;00m ioargs\u001b[38;5;241m.\u001b[39mmode:\n\u001b[1;32m    785\u001b[0m         \u001b[38;5;66;03m# Encoding\u001b[39;00m\n\u001b[0;32m--> 786\u001b[0m         handle \u001b[38;5;241m=\u001b[39m \u001b[38;5;28;43mopen\u001b[39;49m\u001b[43m(\u001b[49m\n\u001b[1;32m    787\u001b[0m \u001b[43m            \u001b[49m\u001b[43mhandle\u001b[49m\u001b[43m,\u001b[49m\n\u001b[1;32m    788\u001b[0m \u001b[43m            \u001b[49m\u001b[43mioargs\u001b[49m\u001b[38;5;241;43m.\u001b[39;49m\u001b[43mmode\u001b[49m\u001b[43m,\u001b[49m\n\u001b[1;32m    789\u001b[0m \u001b[43m            \u001b[49m\u001b[43mencoding\u001b[49m\u001b[38;5;241;43m=\u001b[39;49m\u001b[43mioargs\u001b[49m\u001b[38;5;241;43m.\u001b[39;49m\u001b[43mencoding\u001b[49m\u001b[43m,\u001b[49m\n\u001b[1;32m    790\u001b[0m \u001b[43m            \u001b[49m\u001b[43merrors\u001b[49m\u001b[38;5;241;43m=\u001b[39;49m\u001b[43merrors\u001b[49m\u001b[43m,\u001b[49m\n\u001b[1;32m    791\u001b[0m \u001b[43m            \u001b[49m\u001b[43mnewline\u001b[49m\u001b[38;5;241;43m=\u001b[39;49m\u001b[38;5;124;43m\"\u001b[39;49m\u001b[38;5;124;43m\"\u001b[39;49m\u001b[43m,\u001b[49m\n\u001b[1;32m    792\u001b[0m \u001b[43m        \u001b[49m\u001b[43m)\u001b[49m\n\u001b[1;32m    793\u001b[0m     \u001b[38;5;28;01melse\u001b[39;00m:\n\u001b[1;32m    794\u001b[0m         \u001b[38;5;66;03m# Binary mode\u001b[39;00m\n\u001b[1;32m    795\u001b[0m         handle \u001b[38;5;241m=\u001b[39m \u001b[38;5;28mopen\u001b[39m(handle, ioargs\u001b[38;5;241m.\u001b[39mmode)\n",
      "\u001b[0;31mFileNotFoundError\u001b[0m: [Errno 2] No such file or directory: './predict/data/train_hyperas_predicted_test.csv'"
     ]
    }
   ],
   "source": [
    "#predict_result = pd.read_csv(\"./predict/train_simple_predicted_test.csv\", sep=\",\")\n",
    "predict_result = pd.read_csv(\"./predict/data/train_hyperas_predicted_test.csv\", sep=\",\")"
   ]
  },
  {
   "cell_type": "code",
   "execution_count": null,
   "metadata": {},
   "outputs": [
    {
     "ename": "",
     "evalue": "",
     "output_type": "error",
     "traceback": [
      "\u001b[1;31mJupyter を起動できません。Jupyter の検索中にエラーが発生しました: 'Python 3.8.9 64-bit' を使用した実行中のセルには jupyter および notebook パッケージが必要です。\n",
      "次のコマンドを実行して、'jupyter および notebook' を Python 環境にインストールします。\r\n",
      "コマンド: 'python -m pip install jupyter notebook -U\n",
      "or\n",
      "conda install jupyter notebook -U'\n",
      "詳細については<a href='https://aka.ms/installJupyterForVSCode'>こちら</a>をクリックしてください。"
     ]
    }
   ],
   "source": [
    "# 障害レースは取り除く\n",
    "predict_result = predict_result[predict_result[\"is_obstacle\"]==0]"
   ]
  },
  {
   "cell_type": "code",
   "execution_count": null,
   "metadata": {},
   "outputs": [
    {
     "ename": "",
     "evalue": "",
     "output_type": "error",
     "traceback": [
      "\u001b[1;31mJupyter を起動できません。Jupyter の検索中にエラーが発生しました: 'Python 3.8.9 64-bit' を使用した実行中のセルには jupyter および notebook パッケージが必要です。\n",
      "次のコマンドを実行して、'jupyter および notebook' を Python 環境にインストールします。\r\n",
      "コマンド: 'python -m pip install jupyter notebook -U\n",
      "or\n",
      "conda install jupyter notebook -U'\n",
      "詳細については<a href='https://aka.ms/installJupyterForVSCode'>こちら</a>をクリックしてください。"
     ]
    }
   ],
   "source": [
    "predict_result.head()"
   ]
  },
  {
   "cell_type": "code",
   "execution_count": null,
   "metadata": {},
   "outputs": [
    {
     "ename": "",
     "evalue": "",
     "output_type": "error",
     "traceback": [
      "\u001b[1;31mJupyter を起動できません。Jupyter の検索中にエラーが発生しました: 'Python 3.8.9 64-bit' を使用した実行中のセルには jupyter および notebook パッケージが必要です。\n",
      "次のコマンドを実行して、'jupyter および notebook' を Python 環境にインストールします。\r\n",
      "コマンド: 'python -m pip install jupyter notebook -U\n",
      "or\n",
      "conda install jupyter notebook -U'\n",
      "詳細については<a href='https://aka.ms/installJupyterForVSCode'>こちら</a>をクリックしてください。"
     ]
    }
   ],
   "source": [
    "# 予測値を100倍して見やすくする\n",
    "predict_result[\"predict_is_tansyo\"] = predict_result[\"predict_is_tansyo\"]*100\n",
    "predict_result[\"predict_is_hukusyo\"] = predict_result[\"predict_is_hukusyo\"]*100"
   ]
  },
  {
   "cell_type": "code",
   "execution_count": null,
   "metadata": {},
   "outputs": [
    {
     "ename": "",
     "evalue": "",
     "output_type": "error",
     "traceback": [
      "\u001b[1;31mJupyter を起動できません。Jupyter の検索中にエラーが発生しました: 'Python 3.8.9 64-bit' を使用した実行中のセルには jupyter および notebook パッケージが必要です。\n",
      "次のコマンドを実行して、'jupyter および notebook' を Python 環境にインストールします。\r\n",
      "コマンド: 'python -m pip install jupyter notebook -U\n",
      "or\n",
      "conda install jupyter notebook -U'\n",
      "詳細については<a href='https://aka.ms/installJupyterForVSCode'>こちら</a>をクリックしてください。"
     ]
    }
   ],
   "source": [
    "predict_result.shape"
   ]
  },
  {
   "cell_type": "markdown",
   "metadata": {},
   "source": [
    "## accuracy の計算\n",
    "groupbyして、レースごとに確率の最も高い馬を見つける。\n",
    "正解していたかを判定"
   ]
  },
  {
   "cell_type": "code",
   "execution_count": null,
   "metadata": {},
   "outputs": [
    {
     "ename": "",
     "evalue": "",
     "output_type": "error",
     "traceback": [
      "\u001b[1;31mJupyter を起動できません。Jupyter の検索中にエラーが発生しました: 'Python 3.8.9 64-bit' を使用した実行中のセルには jupyter および notebook パッケージが必要です。\n",
      "次のコマンドを実行して、'jupyter および notebook' を Python 環境にインストールします。\r\n",
      "コマンド: 'python -m pip install jupyter notebook -U\n",
      "or\n",
      "conda install jupyter notebook -U'\n",
      "詳細については<a href='https://aka.ms/installJupyterForVSCode'>こちら</a>をクリックしてください。"
     ]
    }
   ],
   "source": [
    "# group by したデータフレームに対して行う処理\n",
    "def check_is_correct_predict_is_tansyo(one_race_data):\n",
    "    return one_race_data.loc[one_race_data['predict_is_tansyo'].idxmax()]['is_tansyo']\n",
    "def check_is_correct_predict_is_hukusyo(one_race_data):\n",
    "    return one_race_data.loc[one_race_data['predict_is_hukusyo'].idxmax()]['is_hukusyo']"
   ]
  },
  {
   "cell_type": "code",
   "execution_count": null,
   "metadata": {},
   "outputs": [
    {
     "ename": "",
     "evalue": "",
     "output_type": "error",
     "traceback": [
      "\u001b[1;31mJupyter を起動できません。Jupyter の検索中にエラーが発生しました: 'Python 3.8.9 64-bit' を使用した実行中のセルには jupyter および notebook パッケージが必要です。\n",
      "次のコマンドを実行して、'jupyter および notebook' を Python 環境にインストールします。\r\n",
      "コマンド: 'python -m pip install jupyter notebook -U\n",
      "or\n",
      "conda install jupyter notebook -U'\n",
      "詳細については<a href='https://aka.ms/installJupyterForVSCode'>こちら</a>をクリックしてください。"
     ]
    }
   ],
   "source": [
    "part_predict_result = predict_result[[\"race_id\",\"date\",\"horse_number\",\"predict_is_hukusyo\", \"is_hukusyo\",\"predict_is_tansyo\", \"is_tansyo\"]]\n",
    "\n",
    "is_tansyo = part_predict_result.groupby('race_id').apply(check_is_correct_predict_is_tansyo)\n",
    "is_hukusyo = part_predict_result.groupby('race_id').apply(check_is_correct_predict_is_hukusyo)\n",
    "print(\"tansyo accuracy: {}\".format(is_tansyo.sum()/is_tansyo.size))\n",
    "print(\"hukusyo accuracy: {}\".format(is_hukusyo.sum()/is_hukusyo.size))"
   ]
  },
  {
   "cell_type": "markdown",
   "metadata": {},
   "source": [
    "# blending\n",
    "お互いの欠点を補い合えるかも...？"
   ]
  },
  {
   "cell_type": "code",
   "execution_count": null,
   "metadata": {
    "scrolled": false
   },
   "outputs": [
    {
     "ename": "",
     "evalue": "",
     "output_type": "error",
     "traceback": [
      "\u001b[1;31mJupyter を起動できません。Jupyter の検索中にエラーが発生しました: 'Python 3.8.9 64-bit' を使用した実行中のセルには jupyter および notebook パッケージが必要です。\n",
      "次のコマンドを実行して、'jupyter および notebook' を Python 環境にインストールします。\r\n",
      "コマンド: 'python -m pip install jupyter notebook -U\n",
      "or\n",
      "conda install jupyter notebook -U'\n",
      "詳細については<a href='https://aka.ms/installJupyterForVSCode'>こちら</a>をクリックしてください。"
     ]
    }
   ],
   "source": [
    "blend_df = predict_result.copy()\n",
    "blend_df[\"blend\"] = 0.5*blend_df[\"predict_is_tansyo\"] + 0.5*blend_df[\"predict_is_hukusyo\"]\n",
    "blend_df = blend_df[[\"race_id\",\"date\",\"horse_number\", \"blend\",\"is_hukusyo\", \"is_tansyo\"]]\n",
    "\n",
    "def blend_check_is_correct_predict_is_tansyo(one_race_data):\n",
    "    return one_race_data.loc[one_race_data['blend'].idxmax()]['is_tansyo']\n",
    "def blend_check_is_correct_predict_is_hukusyo(one_race_data):\n",
    "    return one_race_data.loc[one_race_data['blend'].idxmax()]['is_hukusyo']\n",
    "\n",
    "is_tansyo = blend_df.groupby('race_id').apply(blend_check_is_correct_predict_is_tansyo)\n",
    "is_hukusyo = blend_df.groupby('race_id').apply(blend_check_is_correct_predict_is_hukusyo)\n",
    "print(\"tansyo accuracy: {}\".format(is_tansyo.sum()/is_tansyo.size))\n",
    "print(\"hukusyo accuracy: {}\".format(is_hukusyo.sum()/is_hukusyo.size))"
   ]
  },
  {
   "cell_type": "markdown",
   "metadata": {},
   "source": [
    "## 同着の試合があるかもしれないので取り除く\n",
    "同着はデータがおかしくなっているので取り除く。\n",
    "また、10頭以下のレースは取り除く"
   ]
  },
  {
   "cell_type": "code",
   "execution_count": null,
   "metadata": {},
   "outputs": [
    {
     "ename": "",
     "evalue": "",
     "output_type": "error",
     "traceback": [
      "\u001b[1;31mJupyter を起動できません。Jupyter の検索中にエラーが発生しました: 'Python 3.8.9 64-bit' を使用した実行中のセルには jupyter および notebook パッケージが必要です。\n",
      "次のコマンドを実行して、'jupyter および notebook' を Python 環境にインストールします。\r\n",
      "コマンド: 'python -m pip install jupyter notebook -U\n",
      "or\n",
      "conda install jupyter notebook -U'\n",
      "詳細については<a href='https://aka.ms/installJupyterForVSCode'>こちら</a>をクリックしてください。"
     ]
    }
   ],
   "source": [
    "merged_df = pd.merge(blend_df, race_df, on=\"race_id\")\n",
    "merged_df = pd.merge(merged_df, horse_df, on=['race_id','horse_number'])\n",
    "merged_df['tansyo_return'] = merged_df['is_tansyo']*merged_df['tansyo'] - 100\n",
    "merged_df[\"hukusyo_return\"] = (merged_df[\"rank\"]==1)*merged_df[\"hukusyo_first\"] + (merged_df[\"rank\"]==2)*merged_df[\"hukusyo_second\"] + (merged_df[\"rank\"]==3)*merged_df[\"hukusyo_third\"]  - 100"
   ]
  },
  {
   "cell_type": "code",
   "execution_count": null,
   "metadata": {},
   "outputs": [
    {
     "ename": "",
     "evalue": "",
     "output_type": "error",
     "traceback": [
      "\u001b[1;31mJupyter を起動できません。Jupyter の検索中にエラーが発生しました: 'Python 3.8.9 64-bit' を使用した実行中のセルには jupyter および notebook パッケージが必要です。\n",
      "次のコマンドを実行して、'jupyter および notebook' を Python 環境にインストールします。\r\n",
      "コマンド: 'python -m pip install jupyter notebook -U\n",
      "or\n",
      "conda install jupyter notebook -U'\n",
      "詳細については<a href='https://aka.ms/installJupyterForVSCode'>こちら</a>をクリックしてください。"
     ]
    }
   ],
   "source": [
    "def remove_same(one_horse_data):\n",
    "    #  数レース分の情報を結合\n",
    "    result_df = one_horse_data.copy()\n",
    "    \n",
    "    if result_df[\"rank\"].duplicated().sum() or result_df[\"total_horse_number\"].iloc[0]<10:\n",
    "        return \n",
    "    else:\n",
    "        return result_df"
   ]
  },
  {
   "cell_type": "code",
   "execution_count": null,
   "metadata": {},
   "outputs": [
    {
     "ename": "",
     "evalue": "",
     "output_type": "error",
     "traceback": [
      "\u001b[1;31mJupyter を起動できません。Jupyter の検索中にエラーが発生しました: 'Python 3.8.9 64-bit' を使用した実行中のセルには jupyter および notebook パッケージが必要です。\n",
      "次のコマンドを実行して、'jupyter および notebook' を Python 環境にインストールします。\r\n",
      "コマンド: 'python -m pip install jupyter notebook -U\n",
      "or\n",
      "conda install jupyter notebook -U'\n",
      "詳細については<a href='https://aka.ms/installJupyterForVSCode'>こちら</a>をクリックしてください。"
     ]
    }
   ],
   "source": [
    "print(merged_df.shape)\n",
    "removed = merged_df.groupby(\"race_id\").apply(remove_same)\n",
    "print(removed.shape)"
   ]
  },
  {
   "cell_type": "markdown",
   "metadata": {},
   "source": [
    "## 可視化"
   ]
  },
  {
   "cell_type": "code",
   "execution_count": null,
   "metadata": {},
   "outputs": [
    {
     "ename": "",
     "evalue": "",
     "output_type": "error",
     "traceback": [
      "\u001b[1;31mJupyter を起動できません。Jupyter の検索中にエラーが発生しました: 'Python 3.8.9 64-bit' を使用した実行中のセルには jupyter および notebook パッケージが必要です。\n",
      "次のコマンドを実行して、'jupyter および notebook' を Python 環境にインストールします。\r\n",
      "コマンド: 'python -m pip install jupyter notebook -U\n",
      "or\n",
      "conda install jupyter notebook -U'\n",
      "詳細については<a href='https://aka.ms/installJupyterForVSCode'>こちら</a>をクリックしてください。"
     ]
    }
   ],
   "source": [
    "removed = removed.reset_index(drop=True)\n",
    "removed.head()"
   ]
  },
  {
   "cell_type": "code",
   "execution_count": null,
   "metadata": {},
   "outputs": [
    {
     "ename": "",
     "evalue": "",
     "output_type": "error",
     "traceback": [
      "\u001b[1;31mJupyter を起動できません。Jupyter の検索中にエラーが発生しました: 'Python 3.8.9 64-bit' を使用した実行中のセルには jupyter および notebook パッケージが必要です。\n",
      "次のコマンドを実行して、'jupyter および notebook' を Python 環境にインストールします。\r\n",
      "コマンド: 'python -m pip install jupyter notebook -U\n",
      "or\n",
      "conda install jupyter notebook -U'\n",
      "詳細については<a href='https://aka.ms/installJupyterForVSCode'>こちら</a>をクリックしてください。"
     ]
    }
   ],
   "source": [
    "# blendの分布についてヒストグラム\n",
    "removed.plot(kind='hist', y='blend' , bins=10, figsize=(16,4), alpha=0.5)"
   ]
  },
  {
   "cell_type": "code",
   "execution_count": null,
   "metadata": {
    "scrolled": true
   },
   "outputs": [
    {
     "ename": "",
     "evalue": "",
     "output_type": "error",
     "traceback": [
      "\u001b[1;31mJupyter を起動できません。Jupyter の検索中にエラーが発生しました: 'Python 3.8.9 64-bit' を使用した実行中のセルには jupyter および notebook パッケージが必要です。\n",
      "次のコマンドを実行して、'jupyter および notebook' を Python 環境にインストールします。\r\n",
      "コマンド: 'python -m pip install jupyter notebook -U\n",
      "or\n",
      "conda install jupyter notebook -U'\n",
      "詳細については<a href='https://aka.ms/installJupyterForVSCode'>こちら</a>をクリックしてください。"
     ]
    }
   ],
   "source": [
    "# オッズと予測値\n",
    "removed.plot(kind='scatter', x='blend', y='odds')"
   ]
  },
  {
   "cell_type": "code",
   "execution_count": null,
   "metadata": {},
   "outputs": [
    {
     "ename": "",
     "evalue": "",
     "output_type": "error",
     "traceback": [
      "\u001b[1;31mJupyter を起動できません。Jupyter の検索中にエラーが発生しました: 'Python 3.8.9 64-bit' を使用した実行中のセルには jupyter および notebook パッケージが必要です。\n",
      "次のコマンドを実行して、'jupyter および notebook' を Python 環境にインストールします。\r\n",
      "コマンド: 'python -m pip install jupyter notebook -U\n",
      "or\n",
      "conda install jupyter notebook -U'\n",
      "詳細については<a href='https://aka.ms/installJupyterForVSCode'>こちら</a>をクリックしてください。"
     ]
    }
   ],
   "source": [
    "# 実際に1位になったものについてのオッズと予測値\n",
    "removed[removed[\"rank\"]==1].plot(kind='scatter', x='blend', y='odds')"
   ]
  },
  {
   "cell_type": "code",
   "execution_count": null,
   "metadata": {
    "scrolled": true
   },
   "outputs": [
    {
     "ename": "",
     "evalue": "",
     "output_type": "error",
     "traceback": [
      "\u001b[1;31mJupyter を起動できません。Jupyter の検索中にエラーが発生しました: 'Python 3.8.9 64-bit' を使用した実行中のセルには jupyter および notebook パッケージが必要です。\n",
      "次のコマンドを実行して、'jupyter および notebook' を Python 環境にインストールします。\r\n",
      "コマンド: 'python -m pip install jupyter notebook -U\n",
      "or\n",
      "conda install jupyter notebook -U'\n",
      "詳細については<a href='https://aka.ms/installJupyterForVSCode'>こちら</a>をクリックしてください。"
     ]
    }
   ],
   "source": [
    "# 実際に複勝圏内になったものについてのオッズと予測値\n",
    "removed[removed[\"rank\"]<=3].plot(kind='scatter', x='blend', y='odds')"
   ]
  },
  {
   "cell_type": "code",
   "execution_count": null,
   "metadata": {},
   "outputs": [
    {
     "ename": "",
     "evalue": "",
     "output_type": "error",
     "traceback": [
      "\u001b[1;31mJupyter を起動できません。Jupyter の検索中にエラーが発生しました: 'Python 3.8.9 64-bit' を使用した実行中のセルには jupyter および notebook パッケージが必要です。\n",
      "次のコマンドを実行して、'jupyter および notebook' を Python 環境にインストールします。\r\n",
      "コマンド: 'python -m pip install jupyter notebook -U\n",
      "or\n",
      "conda install jupyter notebook -U'\n",
      "詳細については<a href='https://aka.ms/installJupyterForVSCode'>こちら</a>をクリックしてください。"
     ]
    }
   ],
   "source": []
  },
  {
   "cell_type": "markdown",
   "metadata": {},
   "source": [
    "## 的中率の計算(実際に1位や３位以内であった確率）"
   ]
  },
  {
   "cell_type": "code",
   "execution_count": null,
   "metadata": {},
   "outputs": [
    {
     "ename": "",
     "evalue": "",
     "output_type": "error",
     "traceback": [
      "\u001b[1;31mJupyter を起動できません。Jupyter の検索中にエラーが発生しました: 'Python 3.8.9 64-bit' を使用した実行中のセルには jupyter および notebook パッケージが必要です。\n",
      "次のコマンドを実行して、'jupyter および notebook' を Python 環境にインストールします。\r\n",
      "コマンド: 'python -m pip install jupyter notebook -U\n",
      "or\n",
      "conda install jupyter notebook -U'\n",
      "詳細については<a href='https://aka.ms/installJupyterForVSCode'>こちら</a>をクリックしてください。"
     ]
    }
   ],
   "source": [
    "# cut\n",
    "removed[\"blend_cut\"] = pd.cut(removed[\"blend\"], 10)"
   ]
  },
  {
   "cell_type": "code",
   "execution_count": null,
   "metadata": {},
   "outputs": [
    {
     "ename": "",
     "evalue": "",
     "output_type": "error",
     "traceback": [
      "\u001b[1;31mJupyter を起動できません。Jupyter の検索中にエラーが発生しました: 'Python 3.8.9 64-bit' を使用した実行中のセルには jupyter および notebook パッケージが必要です。\n",
      "次のコマンドを実行して、'jupyter および notebook' を Python 環境にインストールします。\r\n",
      "コマンド: 'python -m pip install jupyter notebook -U\n",
      "or\n",
      "conda install jupyter notebook -U'\n",
      "詳細については<a href='https://aka.ms/installJupyterForVSCode'>こちら</a>をクリックしてください。"
     ]
    }
   ],
   "source": [
    "# tansyo\n",
    "def right_rate_tansyo(one_cut):\n",
    "    return one_cut[\"is_tansyo\"].sum()/len(one_cut)\n",
    "    \n",
    "removed.groupby(\"blend_cut\").apply(right_rate_tansyo).plot()"
   ]
  },
  {
   "cell_type": "code",
   "execution_count": null,
   "metadata": {},
   "outputs": [
    {
     "ename": "",
     "evalue": "",
     "output_type": "error",
     "traceback": [
      "\u001b[1;31mJupyter を起動できません。Jupyter の検索中にエラーが発生しました: 'Python 3.8.9 64-bit' を使用した実行中のセルには jupyter および notebook パッケージが必要です。\n",
      "次のコマンドを実行して、'jupyter および notebook' を Python 環境にインストールします。\r\n",
      "コマンド: 'python -m pip install jupyter notebook -U\n",
      "or\n",
      "conda install jupyter notebook -U'\n",
      "詳細については<a href='https://aka.ms/installJupyterForVSCode'>こちら</a>をクリックしてください。"
     ]
    }
   ],
   "source": [
    "# hukusyo\n",
    "def right_rate_hukusyo(one_cut):\n",
    "    return one_cut[\"is_hukusyo\"].sum()/len(one_cut)\n",
    "    \n",
    "removed.groupby(\"blend_cut\").apply(right_rate_hukusyo).plot()"
   ]
  },
  {
   "cell_type": "markdown",
   "metadata": {},
   "source": [
    "## 回収率の計算"
   ]
  },
  {
   "cell_type": "code",
   "execution_count": null,
   "metadata": {},
   "outputs": [
    {
     "ename": "",
     "evalue": "",
     "output_type": "error",
     "traceback": [
      "\u001b[1;31mJupyter を起動できません。Jupyter の検索中にエラーが発生しました: 'Python 3.8.9 64-bit' を使用した実行中のセルには jupyter および notebook パッケージが必要です。\n",
      "次のコマンドを実行して、'jupyter および notebook' を Python 環境にインストールします。\r\n",
      "コマンド: 'python -m pip install jupyter notebook -U\n",
      "or\n",
      "conda install jupyter notebook -U'\n",
      "詳細については<a href='https://aka.ms/installJupyterForVSCode'>こちら</a>をクリックしてください。"
     ]
    }
   ],
   "source": [
    "def get_return(one_race):\n",
    "    tmp = one_race.reset_index()\n",
    "    return tmp.loc[tmp['blend'].idxmax(),['tansyo_return','hukusyo_return','odds','date','blend']]\n",
    "\n",
    "race_result = removed.groupby(\"race_id\").apply(get_return)"
   ]
  },
  {
   "cell_type": "code",
   "execution_count": null,
   "metadata": {},
   "outputs": [
    {
     "ename": "",
     "evalue": "",
     "output_type": "error",
     "traceback": [
      "\u001b[1;31mJupyter を起動できません。Jupyter の検索中にエラーが発生しました: 'Python 3.8.9 64-bit' を使用した実行中のセルには jupyter および notebook パッケージが必要です。\n",
      "次のコマンドを実行して、'jupyter および notebook' を Python 環境にインストールします。\r\n",
      "コマンド: 'python -m pip install jupyter notebook -U\n",
      "or\n",
      "conda install jupyter notebook -U'\n",
      "詳細については<a href='https://aka.ms/installJupyterForVSCode'>こちら</a>をクリックしてください。"
     ]
    }
   ],
   "source": [
    "race_result = race_result.sort_values(\"date\")"
   ]
  },
  {
   "cell_type": "code",
   "execution_count": null,
   "metadata": {},
   "outputs": [
    {
     "ename": "",
     "evalue": "",
     "output_type": "error",
     "traceback": [
      "\u001b[1;31mJupyter を起動できません。Jupyter の検索中にエラーが発生しました: 'Python 3.8.9 64-bit' を使用した実行中のセルには jupyter および notebook パッケージが必要です。\n",
      "次のコマンドを実行して、'jupyter および notebook' を Python 環境にインストールします。\r\n",
      "コマンド: 'python -m pip install jupyter notebook -U\n",
      "or\n",
      "conda install jupyter notebook -U'\n",
      "詳細については<a href='https://aka.ms/installJupyterForVSCode'>こちら</a>をクリックしてください。"
     ]
    }
   ],
   "source": [
    "race_result = race_result.set_index(\"date\")"
   ]
  },
  {
   "cell_type": "markdown",
   "metadata": {},
   "source": [
    "### 単勝"
   ]
  },
  {
   "cell_type": "code",
   "execution_count": null,
   "metadata": {},
   "outputs": [
    {
     "ename": "",
     "evalue": "",
     "output_type": "error",
     "traceback": [
      "\u001b[1;31mJupyter を起動できません。Jupyter の検索中にエラーが発生しました: 'Python 3.8.9 64-bit' を使用した実行中のセルには jupyter および notebook パッケージが必要です。\n",
      "次のコマンドを実行して、'jupyter および notebook' を Python 環境にインストールします。\r\n",
      "コマンド: 'python -m pip install jupyter notebook -U\n",
      "or\n",
      "conda install jupyter notebook -U'\n",
      "詳細については<a href='https://aka.ms/installJupyterForVSCode'>こちら</a>をクリックしてください。"
     ]
    }
   ],
   "source": [
    "# 単純に買い続けたとき\n",
    "simple = race_result[\"tansyo_return\"].cumsum()\n",
    "simple.plot(figsize=(12, 6))"
   ]
  },
  {
   "cell_type": "code",
   "execution_count": null,
   "metadata": {},
   "outputs": [
    {
     "ename": "",
     "evalue": "",
     "output_type": "error",
     "traceback": [
      "\u001b[1;31mJupyter を起動できません。Jupyter の検索中にエラーが発生しました: 'Python 3.8.9 64-bit' を使用した実行中のセルには jupyter および notebook パッケージが必要です。\n",
      "次のコマンドを実行して、'jupyter および notebook' を Python 環境にインストールします。\r\n",
      "コマンド: 'python -m pip install jupyter notebook -U\n",
      "or\n",
      "conda install jupyter notebook -U'\n",
      "詳細については<a href='https://aka.ms/installJupyterForVSCode'>こちら</a>をクリックしてください。"
     ]
    }
   ],
   "source": [
    "# breandがある程度あるときだけ\n",
    "simple = race_result.loc[(race_result[\"blend\"]>30), 'tansyo_return'].cumsum()\n",
    "simple.plot()"
   ]
  },
  {
   "cell_type": "code",
   "execution_count": null,
   "metadata": {},
   "outputs": [
    {
     "ename": "",
     "evalue": "",
     "output_type": "error",
     "traceback": [
      "\u001b[1;31mJupyter を起動できません。Jupyter の検索中にエラーが発生しました: 'Python 3.8.9 64-bit' を使用した実行中のセルには jupyter および notebook パッケージが必要です。\n",
      "次のコマンドを実行して、'jupyter および notebook' を Python 環境にインストールします。\r\n",
      "コマンド: 'python -m pip install jupyter notebook -U\n",
      "or\n",
      "conda install jupyter notebook -U'\n",
      "詳細については<a href='https://aka.ms/installJupyterForVSCode'>こちら</a>をクリックしてください。"
     ]
    }
   ],
   "source": [
    "# オッズがある範囲のとき\n",
    "simple = race_result.loc[((race_result[\"odds\"]>10) & (race_result[\"odds\"]<60) & (race_result[\"blend\"]>30)), 'tansyo_return'].cumsum()\n",
    "simple.plot()"
   ]
  },
  {
   "cell_type": "markdown",
   "metadata": {},
   "source": [
    "### 複勝"
   ]
  },
  {
   "cell_type": "code",
   "execution_count": null,
   "metadata": {},
   "outputs": [
    {
     "ename": "",
     "evalue": "",
     "output_type": "error",
     "traceback": [
      "\u001b[1;31mJupyter を起動できません。Jupyter の検索中にエラーが発生しました: 'Python 3.8.9 64-bit' を使用した実行中のセルには jupyter および notebook パッケージが必要です。\n",
      "次のコマンドを実行して、'jupyter および notebook' を Python 環境にインストールします。\r\n",
      "コマンド: 'python -m pip install jupyter notebook -U\n",
      "or\n",
      "conda install jupyter notebook -U'\n",
      "詳細については<a href='https://aka.ms/installJupyterForVSCode'>こちら</a>をクリックしてください。"
     ]
    }
   ],
   "source": [
    "# 単純に買い続けたとき\n",
    "simple = race_result[\"hukusyo_return\"].cumsum()\n",
    "simple.plot(figsize=(12, 6))"
   ]
  },
  {
   "cell_type": "code",
   "execution_count": null,
   "metadata": {},
   "outputs": [
    {
     "ename": "",
     "evalue": "",
     "output_type": "error",
     "traceback": [
      "\u001b[1;31mJupyter を起動できません。Jupyter の検索中にエラーが発生しました: 'Python 3.8.9 64-bit' を使用した実行中のセルには jupyter および notebook パッケージが必要です。\n",
      "次のコマンドを実行して、'jupyter および notebook' を Python 環境にインストールします。\r\n",
      "コマンド: 'python -m pip install jupyter notebook -U\n",
      "or\n",
      "conda install jupyter notebook -U'\n",
      "詳細については<a href='https://aka.ms/installJupyterForVSCode'>こちら</a>をクリックしてください。"
     ]
    }
   ],
   "source": [
    "# blendの予測値を含める\n",
    "simple = race_result.loc[(race_result[\"blend\"]>30), 'hukusyo_return'].cumsum()\n",
    "simple.plot()"
   ]
  },
  {
   "cell_type": "code",
   "execution_count": null,
   "metadata": {},
   "outputs": [
    {
     "ename": "",
     "evalue": "",
     "output_type": "error",
     "traceback": [
      "\u001b[1;31mJupyter を起動できません。Jupyter の検索中にエラーが発生しました: 'Python 3.8.9 64-bit' を使用した実行中のセルには jupyter および notebook パッケージが必要です。\n",
      "次のコマンドを実行して、'jupyter および notebook' を Python 環境にインストールします。\r\n",
      "コマンド: 'python -m pip install jupyter notebook -U\n",
      "or\n",
      "conda install jupyter notebook -U'\n",
      "詳細については<a href='https://aka.ms/installJupyterForVSCode'>こちら</a>をクリックしてください。"
     ]
    }
   ],
   "source": [
    "# オッズがある範囲のとき\n",
    "simple = race_result.loc[((race_result[\"odds\"]>20.0) & (race_result[\"odds\"]<65)), 'hukusyo_return'].cumsum()\n",
    "simple.plot(figsize=(12, 6))"
   ]
  },
  {
   "cell_type": "code",
   "execution_count": null,
   "metadata": {},
   "outputs": [
    {
     "ename": "",
     "evalue": "",
     "output_type": "error",
     "traceback": [
      "\u001b[1;31mJupyter を起動できません。Jupyter の検索中にエラーが発生しました: 'Python 3.8.9 64-bit' を使用した実行中のセルには jupyter および notebook パッケージが必要です。\n",
      "次のコマンドを実行して、'jupyter および notebook' を Python 環境にインストールします。\r\n",
      "コマンド: 'python -m pip install jupyter notebook -U\n",
      "or\n",
      "conda install jupyter notebook -U'\n",
      "詳細については<a href='https://aka.ms/installJupyterForVSCode'>こちら</a>をクリックしてください。"
     ]
    }
   ],
   "source": []
  }
 ],
 "metadata": {
  "kernelspec": {
   "display_name": "Python 3 (ipykernel)",
   "language": "python",
   "name": "python3"
  },
  "language_info": {
   "codemirror_mode": {
    "name": "ipython",
    "version": 3
   },
   "file_extension": ".py",
   "mimetype": "text/x-python",
   "name": "python",
   "nbconvert_exporter": "python",
   "pygments_lexer": "ipython3",
   "version": "3.8.9"
  },
  "vscode": {
   "interpreter": {
    "hash": "31f2aee4e71d21fbe5cf8b01ff0e069b9275f58929596ceb00d14d90e3e16cd6"
   }
  }
 },
 "nbformat": 4,
 "nbformat_minor": 2
}
