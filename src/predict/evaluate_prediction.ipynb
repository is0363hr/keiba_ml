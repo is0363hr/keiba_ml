{
 "cells": [
  {
   "cell_type": "markdown",
   "metadata": {},
   "source": [
    "# train_hyperasの確認"
   ]
  },
  {
   "cell_type": "code",
   "execution_count": 1,
   "metadata": {},
   "outputs": [
    {
     "ename": "ModuleNotFoundError",
     "evalue": "No module named 'numpy'",
     "output_type": "error",
     "traceback": [
      "\u001b[0;31m---------------------------------------------------------------------------\u001b[0m",
      "\u001b[0;31mModuleNotFoundError\u001b[0m                       Traceback (most recent call last)",
      "\u001b[1;32mセル2 を /Users/htamakaw/code/Github_Private/keiba_ml/src/predict/evaluate_prediction.ipynb\u001b[0m in \u001b[0;36m<cell line: 1>\u001b[0;34m()\u001b[0m\n\u001b[0;32m----> <a href='vscode-notebook-cell:/Users/htamakaw/code/Github_Private/keiba_ml/src/predict/evaluate_prediction.ipynb#ch0000001?line=0'>1</a>\u001b[0m \u001b[39mimport\u001b[39;00m \u001b[39mnumpy\u001b[39;00m \u001b[39mas\u001b[39;00m \u001b[39mnp\u001b[39;00m\n\u001b[1;32m      <a href='vscode-notebook-cell:/Users/htamakaw/code/Github_Private/keiba_ml/src/predict/evaluate_prediction.ipynb#ch0000001?line=1'>2</a>\u001b[0m \u001b[39mimport\u001b[39;00m \u001b[39mpandas\u001b[39;00m \u001b[39mas\u001b[39;00m \u001b[39mpd\u001b[39;00m\n\u001b[1;32m      <a href='vscode-notebook-cell:/Users/htamakaw/code/Github_Private/keiba_ml/src/predict/evaluate_prediction.ipynb#ch0000001?line=2'>3</a>\u001b[0m \u001b[39m#最大表示列数の指定\u001b[39;00m\n",
      "\u001b[0;31mModuleNotFoundError\u001b[0m: No module named 'numpy'"
     ]
    }
   ],
   "source": [
    "import numpy as np\n",
    "import pandas as pd\n",
    "#最大表示列数の指定\n",
    "pd.set_option('display.max_columns', 300)\n",
    "\n",
    "%matplotlib inline \n",
    "import matplotlib.pyplot as plt\n",
    "\n",
    "plt.style.use('ggplot') "
   ]
  },
  {
   "cell_type": "code",
   "execution_count": null,
   "metadata": {},
   "outputs": [
    {
     "ename": "",
     "evalue": "",
     "output_type": "error",
     "traceback": [
      "\u001b[1;31mJupyter を起動できません。Jupyter の検索中にエラーが発生しました: 'Python 3.8.9 64-bit' を使用した実行中のセルには jupyter および notebook パッケージが必要です。\n",
      "次のコマンドを実行して、'jupyter および notebook' を Python 環境にインストールします。\r\n",
      "コマンド: 'python -m pip install jupyter notebook -U\n",
      "or\n",
      "conda install jupyter notebook -U'\n",
      "詳細については<a href='https://aka.ms/installJupyterForVSCode'>こちら</a>をクリックしてください。"
     ]
    }
   ],
   "source": [
    "race_df = pd.read_csv(\"./csv/cleaned_race_data.csv\", sep=\",\")\n",
    "horse_df = pd.read_csv(\"./csv/cleaned_horse_data.csv\", sep=\",\")"
   ]
  },
  {
   "cell_type": "code",
   "execution_count": null,
   "metadata": {},
   "outputs": [
    {
     "ename": "",
     "evalue": "",
     "output_type": "error",
     "traceback": [
      "\u001b[1;31mJupyter を起動できません。Jupyter の検索中にエラーが発生しました: 'Python 3.8.9 64-bit' を使用した実行中のセルには jupyter および notebook パッケージが必要です。\n",
      "次のコマンドを実行して、'jupyter および notebook' を Python 環境にインストールします。\r\n",
      "コマンド: 'python -m pip install jupyter notebook -U\n",
      "or\n",
      "conda install jupyter notebook -U'\n",
      "詳細については<a href='https://aka.ms/installJupyterForVSCode'>こちら</a>をクリックしてください。"
     ]
    }
   ],
   "source": [
    "#predict_result = pd.read_csv(\"./predict/train_simple_predicted_test.csv\", sep=\",\")\n",
    "predict_result = pd.read_csv(\"./predict/train_hyperas_predicted_test.csv\", sep=\",\")"
   ]
  },
  {
   "cell_type": "code",
   "execution_count": null,
   "metadata": {},
   "outputs": [
    {
     "ename": "",
     "evalue": "",
     "output_type": "error",
     "traceback": [
      "\u001b[1;31mJupyter を起動できません。Jupyter の検索中にエラーが発生しました: 'Python 3.8.9 64-bit' を使用した実行中のセルには jupyter および notebook パッケージが必要です。\n",
      "次のコマンドを実行して、'jupyter および notebook' を Python 環境にインストールします。\r\n",
      "コマンド: 'python -m pip install jupyter notebook -U\n",
      "or\n",
      "conda install jupyter notebook -U'\n",
      "詳細については<a href='https://aka.ms/installJupyterForVSCode'>こちら</a>をクリックしてください。"
     ]
    }
   ],
   "source": [
    "# 障害レースは取り除く\n",
    "predict_result = predict_result[predict_result[\"is_obstacle\"]==0]"
   ]
  },
  {
   "cell_type": "code",
   "execution_count": null,
   "metadata": {},
   "outputs": [
    {
     "ename": "",
     "evalue": "",
     "output_type": "error",
     "traceback": [
      "\u001b[1;31mJupyter を起動できません。Jupyter の検索中にエラーが発生しました: 'Python 3.8.9 64-bit' を使用した実行中のセルには jupyter および notebook パッケージが必要です。\n",
      "次のコマンドを実行して、'jupyter および notebook' を Python 環境にインストールします。\r\n",
      "コマンド: 'python -m pip install jupyter notebook -U\n",
      "or\n",
      "conda install jupyter notebook -U'\n",
      "詳細については<a href='https://aka.ms/installJupyterForVSCode'>こちら</a>をクリックしてください。"
     ]
    }
   ],
   "source": [
    "predict_result.head()"
   ]
  },
  {
   "cell_type": "code",
   "execution_count": null,
   "metadata": {},
   "outputs": [
    {
     "ename": "",
     "evalue": "",
     "output_type": "error",
     "traceback": [
      "\u001b[1;31mJupyter を起動できません。Jupyter の検索中にエラーが発生しました: 'Python 3.8.9 64-bit' を使用した実行中のセルには jupyter および notebook パッケージが必要です。\n",
      "次のコマンドを実行して、'jupyter および notebook' を Python 環境にインストールします。\r\n",
      "コマンド: 'python -m pip install jupyter notebook -U\n",
      "or\n",
      "conda install jupyter notebook -U'\n",
      "詳細については<a href='https://aka.ms/installJupyterForVSCode'>こちら</a>をクリックしてください。"
     ]
    }
   ],
   "source": [
    "# 予測値を100倍して見やすくする\n",
    "predict_result[\"predict_is_tansyo\"] = predict_result[\"predict_is_tansyo\"]*100\n",
    "predict_result[\"predict_is_hukusyo\"] = predict_result[\"predict_is_hukusyo\"]*100"
   ]
  },
  {
   "cell_type": "code",
   "execution_count": null,
   "metadata": {},
   "outputs": [
    {
     "ename": "",
     "evalue": "",
     "output_type": "error",
     "traceback": [
      "\u001b[1;31mJupyter を起動できません。Jupyter の検索中にエラーが発生しました: 'Python 3.8.9 64-bit' を使用した実行中のセルには jupyter および notebook パッケージが必要です。\n",
      "次のコマンドを実行して、'jupyter および notebook' を Python 環境にインストールします。\r\n",
      "コマンド: 'python -m pip install jupyter notebook -U\n",
      "or\n",
      "conda install jupyter notebook -U'\n",
      "詳細については<a href='https://aka.ms/installJupyterForVSCode'>こちら</a>をクリックしてください。"
     ]
    }
   ],
   "source": [
    "predict_result.shape"
   ]
  },
  {
   "cell_type": "markdown",
   "metadata": {},
   "source": [
    "## accuracy の計算\n",
    "groupbyして、レースごとに確率の最も高い馬を見つける。\n",
    "正解していたかを判定"
   ]
  },
  {
   "cell_type": "code",
   "execution_count": null,
   "metadata": {},
   "outputs": [
    {
     "ename": "",
     "evalue": "",
     "output_type": "error",
     "traceback": [
      "\u001b[1;31mJupyter を起動できません。Jupyter の検索中にエラーが発生しました: 'Python 3.8.9 64-bit' を使用した実行中のセルには jupyter および notebook パッケージが必要です。\n",
      "次のコマンドを実行して、'jupyter および notebook' を Python 環境にインストールします。\r\n",
      "コマンド: 'python -m pip install jupyter notebook -U\n",
      "or\n",
      "conda install jupyter notebook -U'\n",
      "詳細については<a href='https://aka.ms/installJupyterForVSCode'>こちら</a>をクリックしてください。"
     ]
    }
   ],
   "source": [
    "# group by したデータフレームに対して行う処理\n",
    "def check_is_correct_predict_is_tansyo(one_race_data):\n",
    "    return one_race_data.loc[one_race_data['predict_is_tansyo'].idxmax()]['is_tansyo']\n",
    "def check_is_correct_predict_is_hukusyo(one_race_data):\n",
    "    return one_race_data.loc[one_race_data['predict_is_hukusyo'].idxmax()]['is_hukusyo']"
   ]
  },
  {
   "cell_type": "code",
   "execution_count": null,
   "metadata": {},
   "outputs": [
    {
     "ename": "",
     "evalue": "",
     "output_type": "error",
     "traceback": [
      "\u001b[1;31mJupyter を起動できません。Jupyter の検索中にエラーが発生しました: 'Python 3.8.9 64-bit' を使用した実行中のセルには jupyter および notebook パッケージが必要です。\n",
      "次のコマンドを実行して、'jupyter および notebook' を Python 環境にインストールします。\r\n",
      "コマンド: 'python -m pip install jupyter notebook -U\n",
      "or\n",
      "conda install jupyter notebook -U'\n",
      "詳細については<a href='https://aka.ms/installJupyterForVSCode'>こちら</a>をクリックしてください。"
     ]
    }
   ],
   "source": [
    "part_predict_result = predict_result[[\"race_id\",\"date\",\"horse_number\",\"predict_is_hukusyo\", \"is_hukusyo\",\"predict_is_tansyo\", \"is_tansyo\"]]\n",
    "\n",
    "is_tansyo = part_predict_result.groupby('race_id').apply(check_is_correct_predict_is_tansyo)\n",
    "is_hukusyo = part_predict_result.groupby('race_id').apply(check_is_correct_predict_is_hukusyo)\n",
    "print(\"tansyo accuracy: {}\".format(is_tansyo.sum()/is_tansyo.size))\n",
    "print(\"hukusyo accuracy: {}\".format(is_hukusyo.sum()/is_hukusyo.size))"
   ]
  },
  {
   "cell_type": "markdown",
   "metadata": {},
   "source": [
    "# blending\n",
    "お互いの欠点を補い合えるかも...？"
   ]
  },
  {
   "cell_type": "code",
   "execution_count": null,
   "metadata": {
    "scrolled": false
   },
   "outputs": [
    {
     "ename": "",
     "evalue": "",
     "output_type": "error",
     "traceback": [
      "\u001b[1;31mJupyter を起動できません。Jupyter の検索中にエラーが発生しました: 'Python 3.8.9 64-bit' を使用した実行中のセルには jupyter および notebook パッケージが必要です。\n",
      "次のコマンドを実行して、'jupyter および notebook' を Python 環境にインストールします。\r\n",
      "コマンド: 'python -m pip install jupyter notebook -U\n",
      "or\n",
      "conda install jupyter notebook -U'\n",
      "詳細については<a href='https://aka.ms/installJupyterForVSCode'>こちら</a>をクリックしてください。"
     ]
    }
   ],
   "source": [
    "blend_df = predict_result.copy()\n",
    "blend_df[\"blend\"] = 0.5*blend_df[\"predict_is_tansyo\"] + 0.5*blend_df[\"predict_is_hukusyo\"]\n",
    "blend_df = blend_df[[\"race_id\",\"date\",\"horse_number\", \"blend\",\"is_hukusyo\", \"is_tansyo\"]]\n",
    "\n",
    "def blend_check_is_correct_predict_is_tansyo(one_race_data):\n",
    "    return one_race_data.loc[one_race_data['blend'].idxmax()]['is_tansyo']\n",
    "def blend_check_is_correct_predict_is_hukusyo(one_race_data):\n",
    "    return one_race_data.loc[one_race_data['blend'].idxmax()]['is_hukusyo']\n",
    "\n",
    "is_tansyo = blend_df.groupby('race_id').apply(blend_check_is_correct_predict_is_tansyo)\n",
    "is_hukusyo = blend_df.groupby('race_id').apply(blend_check_is_correct_predict_is_hukusyo)\n",
    "print(\"tansyo accuracy: {}\".format(is_tansyo.sum()/is_tansyo.size))\n",
    "print(\"hukusyo accuracy: {}\".format(is_hukusyo.sum()/is_hukusyo.size))"
   ]
  },
  {
   "cell_type": "markdown",
   "metadata": {},
   "source": [
    "## 同着の試合があるかもしれないので取り除く\n",
    "同着はデータがおかしくなっているので取り除く。\n",
    "また、10頭以下のレースは取り除く"
   ]
  },
  {
   "cell_type": "code",
   "execution_count": null,
   "metadata": {},
   "outputs": [
    {
     "ename": "",
     "evalue": "",
     "output_type": "error",
     "traceback": [
      "\u001b[1;31mJupyter を起動できません。Jupyter の検索中にエラーが発生しました: 'Python 3.8.9 64-bit' を使用した実行中のセルには jupyter および notebook パッケージが必要です。\n",
      "次のコマンドを実行して、'jupyter および notebook' を Python 環境にインストールします。\r\n",
      "コマンド: 'python -m pip install jupyter notebook -U\n",
      "or\n",
      "conda install jupyter notebook -U'\n",
      "詳細については<a href='https://aka.ms/installJupyterForVSCode'>こちら</a>をクリックしてください。"
     ]
    }
   ],
   "source": [
    "merged_df = pd.merge(blend_df, race_df, on=\"race_id\")\n",
    "merged_df = pd.merge(merged_df, horse_df, on=['race_id','horse_number'])\n",
    "merged_df['tansyo_return'] = merged_df['is_tansyo']*merged_df['tansyo'] - 100\n",
    "merged_df[\"hukusyo_return\"] = (merged_df[\"rank\"]==1)*merged_df[\"hukusyo_first\"] + (merged_df[\"rank\"]==2)*merged_df[\"hukusyo_second\"] + (merged_df[\"rank\"]==3)*merged_df[\"hukusyo_third\"]  - 100"
   ]
  },
  {
   "cell_type": "code",
   "execution_count": null,
   "metadata": {},
   "outputs": [
    {
     "ename": "",
     "evalue": "",
     "output_type": "error",
     "traceback": [
      "\u001b[1;31mJupyter を起動できません。Jupyter の検索中にエラーが発生しました: 'Python 3.8.9 64-bit' を使用した実行中のセルには jupyter および notebook パッケージが必要です。\n",
      "次のコマンドを実行して、'jupyter および notebook' を Python 環境にインストールします。\r\n",
      "コマンド: 'python -m pip install jupyter notebook -U\n",
      "or\n",
      "conda install jupyter notebook -U'\n",
      "詳細については<a href='https://aka.ms/installJupyterForVSCode'>こちら</a>をクリックしてください。"
     ]
    }
   ],
   "source": [
    "def remove_same(one_horse_data):\n",
    "    #  数レース分の情報を結合\n",
    "    result_df = one_horse_data.copy()\n",
    "    \n",
    "    if result_df[\"rank\"].duplicated().sum() or result_df[\"total_horse_number\"].iloc[0]<10:\n",
    "        return \n",
    "    else:\n",
    "        return result_df"
   ]
  },
  {
   "cell_type": "code",
   "execution_count": null,
   "metadata": {},
   "outputs": [
    {
     "ename": "",
     "evalue": "",
     "output_type": "error",
     "traceback": [
      "\u001b[1;31mJupyter を起動できません。Jupyter の検索中にエラーが発生しました: 'Python 3.8.9 64-bit' を使用した実行中のセルには jupyter および notebook パッケージが必要です。\n",
      "次のコマンドを実行して、'jupyter および notebook' を Python 環境にインストールします。\r\n",
      "コマンド: 'python -m pip install jupyter notebook -U\n",
      "or\n",
      "conda install jupyter notebook -U'\n",
      "詳細については<a href='https://aka.ms/installJupyterForVSCode'>こちら</a>をクリックしてください。"
     ]
    }
   ],
   "source": [
    "print(merged_df.shape)\n",
    "removed = merged_df.groupby(\"race_id\").apply(remove_same)\n",
    "print(removed.shape)"
   ]
  },
  {
   "cell_type": "markdown",
   "metadata": {},
   "source": [
    "## 可視化"
   ]
  },
  {
   "cell_type": "code",
   "execution_count": null,
   "metadata": {},
   "outputs": [
    {
     "ename": "",
     "evalue": "",
     "output_type": "error",
     "traceback": [
      "\u001b[1;31mJupyter を起動できません。Jupyter の検索中にエラーが発生しました: 'Python 3.8.9 64-bit' を使用した実行中のセルには jupyter および notebook パッケージが必要です。\n",
      "次のコマンドを実行して、'jupyter および notebook' を Python 環境にインストールします。\r\n",
      "コマンド: 'python -m pip install jupyter notebook -U\n",
      "or\n",
      "conda install jupyter notebook -U'\n",
      "詳細については<a href='https://aka.ms/installJupyterForVSCode'>こちら</a>をクリックしてください。"
     ]
    }
   ],
   "source": [
    "removed = removed.reset_index(drop=True)\n",
    "removed.head()"
   ]
  },
  {
   "cell_type": "code",
   "execution_count": null,
   "metadata": {},
   "outputs": [
    {
     "ename": "",
     "evalue": "",
     "output_type": "error",
     "traceback": [
      "\u001b[1;31mJupyter を起動できません。Jupyter の検索中にエラーが発生しました: 'Python 3.8.9 64-bit' を使用した実行中のセルには jupyter および notebook パッケージが必要です。\n",
      "次のコマンドを実行して、'jupyter および notebook' を Python 環境にインストールします。\r\n",
      "コマンド: 'python -m pip install jupyter notebook -U\n",
      "or\n",
      "conda install jupyter notebook -U'\n",
      "詳細については<a href='https://aka.ms/installJupyterForVSCode'>こちら</a>をクリックしてください。"
     ]
    }
   ],
   "source": [
    "# blendの分布についてヒストグラム\n",
    "removed.plot(kind='hist', y='blend' , bins=10, figsize=(16,4), alpha=0.5)"
   ]
  },
  {
   "cell_type": "code",
   "execution_count": null,
   "metadata": {
    "scrolled": true
   },
   "outputs": [
    {
     "ename": "",
     "evalue": "",
     "output_type": "error",
     "traceback": [
      "\u001b[1;31mJupyter を起動できません。Jupyter の検索中にエラーが発生しました: 'Python 3.8.9 64-bit' を使用した実行中のセルには jupyter および notebook パッケージが必要です。\n",
      "次のコマンドを実行して、'jupyter および notebook' を Python 環境にインストールします。\r\n",
      "コマンド: 'python -m pip install jupyter notebook -U\n",
      "or\n",
      "conda install jupyter notebook -U'\n",
      "詳細については<a href='https://aka.ms/installJupyterForVSCode'>こちら</a>をクリックしてください。"
     ]
    }
   ],
   "source": [
    "# オッズと予測値\n",
    "removed.plot(kind='scatter', x='blend', y='odds')"
   ]
  },
  {
   "cell_type": "code",
   "execution_count": null,
   "metadata": {},
   "outputs": [
    {
     "ename": "",
     "evalue": "",
     "output_type": "error",
     "traceback": [
      "\u001b[1;31mJupyter を起動できません。Jupyter の検索中にエラーが発生しました: 'Python 3.8.9 64-bit' を使用した実行中のセルには jupyter および notebook パッケージが必要です。\n",
      "次のコマンドを実行して、'jupyter および notebook' を Python 環境にインストールします。\r\n",
      "コマンド: 'python -m pip install jupyter notebook -U\n",
      "or\n",
      "conda install jupyter notebook -U'\n",
      "詳細については<a href='https://aka.ms/installJupyterForVSCode'>こちら</a>をクリックしてください。"
     ]
    }
   ],
   "source": [
    "# 実際に1位になったものについてのオッズと予測値\n",
    "removed[removed[\"rank\"]==1].plot(kind='scatter', x='blend', y='odds')"
   ]
  },
  {
   "cell_type": "code",
   "execution_count": null,
   "metadata": {
    "scrolled": true
   },
   "outputs": [
    {
     "ename": "",
     "evalue": "",
     "output_type": "error",
     "traceback": [
      "\u001b[1;31mJupyter を起動できません。Jupyter の検索中にエラーが発生しました: 'Python 3.8.9 64-bit' を使用した実行中のセルには jupyter および notebook パッケージが必要です。\n",
      "次のコマンドを実行して、'jupyter および notebook' を Python 環境にインストールします。\r\n",
      "コマンド: 'python -m pip install jupyter notebook -U\n",
      "or\n",
      "conda install jupyter notebook -U'\n",
      "詳細については<a href='https://aka.ms/installJupyterForVSCode'>こちら</a>をクリックしてください。"
     ]
    }
   ],
   "source": [
    "# 実際に複勝圏内になったものについてのオッズと予測値\n",
    "removed[removed[\"rank\"]<=3].plot(kind='scatter', x='blend', y='odds')"
   ]
  },
  {
   "cell_type": "code",
   "execution_count": null,
   "metadata": {},
   "outputs": [
    {
     "ename": "",
     "evalue": "",
     "output_type": "error",
     "traceback": [
      "\u001b[1;31mJupyter を起動できません。Jupyter の検索中にエラーが発生しました: 'Python 3.8.9 64-bit' を使用した実行中のセルには jupyter および notebook パッケージが必要です。\n",
      "次のコマンドを実行して、'jupyter および notebook' を Python 環境にインストールします。\r\n",
      "コマンド: 'python -m pip install jupyter notebook -U\n",
      "or\n",
      "conda install jupyter notebook -U'\n",
      "詳細については<a href='https://aka.ms/installJupyterForVSCode'>こちら</a>をクリックしてください。"
     ]
    }
   ],
   "source": []
  },
  {
   "cell_type": "markdown",
   "metadata": {},
   "source": [
    "## 的中率の計算(実際に1位や３位以内であった確率）"
   ]
  },
  {
   "cell_type": "code",
   "execution_count": null,
   "metadata": {},
   "outputs": [
    {
     "ename": "",
     "evalue": "",
     "output_type": "error",
     "traceback": [
      "\u001b[1;31mJupyter を起動できません。Jupyter の検索中にエラーが発生しました: 'Python 3.8.9 64-bit' を使用した実行中のセルには jupyter および notebook パッケージが必要です。\n",
      "次のコマンドを実行して、'jupyter および notebook' を Python 環境にインストールします。\r\n",
      "コマンド: 'python -m pip install jupyter notebook -U\n",
      "or\n",
      "conda install jupyter notebook -U'\n",
      "詳細については<a href='https://aka.ms/installJupyterForVSCode'>こちら</a>をクリックしてください。"
     ]
    }
   ],
   "source": [
    "# cut\n",
    "removed[\"blend_cut\"] = pd.cut(removed[\"blend\"], 10)"
   ]
  },
  {
   "cell_type": "code",
   "execution_count": null,
   "metadata": {},
   "outputs": [
    {
     "ename": "",
     "evalue": "",
     "output_type": "error",
     "traceback": [
      "\u001b[1;31mJupyter を起動できません。Jupyter の検索中にエラーが発生しました: 'Python 3.8.9 64-bit' を使用した実行中のセルには jupyter および notebook パッケージが必要です。\n",
      "次のコマンドを実行して、'jupyter および notebook' を Python 環境にインストールします。\r\n",
      "コマンド: 'python -m pip install jupyter notebook -U\n",
      "or\n",
      "conda install jupyter notebook -U'\n",
      "詳細については<a href='https://aka.ms/installJupyterForVSCode'>こちら</a>をクリックしてください。"
     ]
    }
   ],
   "source": [
    "# tansyo\n",
    "def right_rate_tansyo(one_cut):\n",
    "    return one_cut[\"is_tansyo\"].sum()/len(one_cut)\n",
    "    \n",
    "removed.groupby(\"blend_cut\").apply(right_rate_tansyo).plot()"
   ]
  },
  {
   "cell_type": "code",
   "execution_count": null,
   "metadata": {},
   "outputs": [
    {
     "ename": "",
     "evalue": "",
     "output_type": "error",
     "traceback": [
      "\u001b[1;31mJupyter を起動できません。Jupyter の検索中にエラーが発生しました: 'Python 3.8.9 64-bit' を使用した実行中のセルには jupyter および notebook パッケージが必要です。\n",
      "次のコマンドを実行して、'jupyter および notebook' を Python 環境にインストールします。\r\n",
      "コマンド: 'python -m pip install jupyter notebook -U\n",
      "or\n",
      "conda install jupyter notebook -U'\n",
      "詳細については<a href='https://aka.ms/installJupyterForVSCode'>こちら</a>をクリックしてください。"
     ]
    }
   ],
   "source": [
    "# hukusyo\n",
    "def right_rate_hukusyo(one_cut):\n",
    "    return one_cut[\"is_hukusyo\"].sum()/len(one_cut)\n",
    "    \n",
    "removed.groupby(\"blend_cut\").apply(right_rate_hukusyo).plot()"
   ]
  },
  {
   "cell_type": "markdown",
   "metadata": {},
   "source": [
    "## 回収率の計算"
   ]
  },
  {
   "cell_type": "code",
   "execution_count": null,
   "metadata": {},
   "outputs": [
    {
     "ename": "",
     "evalue": "",
     "output_type": "error",
     "traceback": [
      "\u001b[1;31mJupyter を起動できません。Jupyter の検索中にエラーが発生しました: 'Python 3.8.9 64-bit' を使用した実行中のセルには jupyter および notebook パッケージが必要です。\n",
      "次のコマンドを実行して、'jupyter および notebook' を Python 環境にインストールします。\r\n",
      "コマンド: 'python -m pip install jupyter notebook -U\n",
      "or\n",
      "conda install jupyter notebook -U'\n",
      "詳細については<a href='https://aka.ms/installJupyterForVSCode'>こちら</a>をクリックしてください。"
     ]
    }
   ],
   "source": [
    "def get_return(one_race):\n",
    "    tmp = one_race.reset_index()\n",
    "    return tmp.loc[tmp['blend'].idxmax(),['tansyo_return','hukusyo_return','odds','date','blend']]\n",
    "\n",
    "race_result = removed.groupby(\"race_id\").apply(get_return)"
   ]
  },
  {
   "cell_type": "code",
   "execution_count": null,
   "metadata": {},
   "outputs": [
    {
     "ename": "",
     "evalue": "",
     "output_type": "error",
     "traceback": [
      "\u001b[1;31mJupyter を起動できません。Jupyter の検索中にエラーが発生しました: 'Python 3.8.9 64-bit' を使用した実行中のセルには jupyter および notebook パッケージが必要です。\n",
      "次のコマンドを実行して、'jupyter および notebook' を Python 環境にインストールします。\r\n",
      "コマンド: 'python -m pip install jupyter notebook -U\n",
      "or\n",
      "conda install jupyter notebook -U'\n",
      "詳細については<a href='https://aka.ms/installJupyterForVSCode'>こちら</a>をクリックしてください。"
     ]
    }
   ],
   "source": [
    "race_result = race_result.sort_values(\"date\")"
   ]
  },
  {
   "cell_type": "code",
   "execution_count": null,
   "metadata": {},
   "outputs": [
    {
     "ename": "",
     "evalue": "",
     "output_type": "error",
     "traceback": [
      "\u001b[1;31mJupyter を起動できません。Jupyter の検索中にエラーが発生しました: 'Python 3.8.9 64-bit' を使用した実行中のセルには jupyter および notebook パッケージが必要です。\n",
      "次のコマンドを実行して、'jupyter および notebook' を Python 環境にインストールします。\r\n",
      "コマンド: 'python -m pip install jupyter notebook -U\n",
      "or\n",
      "conda install jupyter notebook -U'\n",
      "詳細については<a href='https://aka.ms/installJupyterForVSCode'>こちら</a>をクリックしてください。"
     ]
    }
   ],
   "source": [
    "race_result = race_result.set_index(\"date\")"
   ]
  },
  {
   "cell_type": "markdown",
   "metadata": {},
   "source": [
    "### 単勝"
   ]
  },
  {
   "cell_type": "code",
   "execution_count": null,
   "metadata": {},
   "outputs": [
    {
     "ename": "",
     "evalue": "",
     "output_type": "error",
     "traceback": [
      "\u001b[1;31mJupyter を起動できません。Jupyter の検索中にエラーが発生しました: 'Python 3.8.9 64-bit' を使用した実行中のセルには jupyter および notebook パッケージが必要です。\n",
      "次のコマンドを実行して、'jupyter および notebook' を Python 環境にインストールします。\r\n",
      "コマンド: 'python -m pip install jupyter notebook -U\n",
      "or\n",
      "conda install jupyter notebook -U'\n",
      "詳細については<a href='https://aka.ms/installJupyterForVSCode'>こちら</a>をクリックしてください。"
     ]
    }
   ],
   "source": [
    "# 単純に買い続けたとき\n",
    "simple = race_result[\"tansyo_return\"].cumsum()\n",
    "simple.plot(figsize=(12, 6))"
   ]
  },
  {
   "cell_type": "code",
   "execution_count": null,
   "metadata": {},
   "outputs": [
    {
     "ename": "",
     "evalue": "",
     "output_type": "error",
     "traceback": [
      "\u001b[1;31mJupyter を起動できません。Jupyter の検索中にエラーが発生しました: 'Python 3.8.9 64-bit' を使用した実行中のセルには jupyter および notebook パッケージが必要です。\n",
      "次のコマンドを実行して、'jupyter および notebook' を Python 環境にインストールします。\r\n",
      "コマンド: 'python -m pip install jupyter notebook -U\n",
      "or\n",
      "conda install jupyter notebook -U'\n",
      "詳細については<a href='https://aka.ms/installJupyterForVSCode'>こちら</a>をクリックしてください。"
     ]
    }
   ],
   "source": [
    "# breandがある程度あるときだけ\n",
    "simple = race_result.loc[(race_result[\"blend\"]>30), 'tansyo_return'].cumsum()\n",
    "simple.plot()"
   ]
  },
  {
   "cell_type": "code",
   "execution_count": null,
   "metadata": {},
   "outputs": [
    {
     "ename": "",
     "evalue": "",
     "output_type": "error",
     "traceback": [
      "\u001b[1;31mJupyter を起動できません。Jupyter の検索中にエラーが発生しました: 'Python 3.8.9 64-bit' を使用した実行中のセルには jupyter および notebook パッケージが必要です。\n",
      "次のコマンドを実行して、'jupyter および notebook' を Python 環境にインストールします。\r\n",
      "コマンド: 'python -m pip install jupyter notebook -U\n",
      "or\n",
      "conda install jupyter notebook -U'\n",
      "詳細については<a href='https://aka.ms/installJupyterForVSCode'>こちら</a>をクリックしてください。"
     ]
    }
   ],
   "source": [
    "# オッズがある範囲のとき\n",
    "simple = race_result.loc[((race_result[\"odds\"]>10) & (race_result[\"odds\"]<60) & (race_result[\"blend\"]>30)), 'tansyo_return'].cumsum()\n",
    "simple.plot()"
   ]
  },
  {
   "cell_type": "markdown",
   "metadata": {},
   "source": [
    "### 複勝"
   ]
  },
  {
   "cell_type": "code",
   "execution_count": null,
   "metadata": {},
   "outputs": [
    {
     "ename": "",
     "evalue": "",
     "output_type": "error",
     "traceback": [
      "\u001b[1;31mJupyter を起動できません。Jupyter の検索中にエラーが発生しました: 'Python 3.8.9 64-bit' を使用した実行中のセルには jupyter および notebook パッケージが必要です。\n",
      "次のコマンドを実行して、'jupyter および notebook' を Python 環境にインストールします。\r\n",
      "コマンド: 'python -m pip install jupyter notebook -U\n",
      "or\n",
      "conda install jupyter notebook -U'\n",
      "詳細については<a href='https://aka.ms/installJupyterForVSCode'>こちら</a>をクリックしてください。"
     ]
    }
   ],
   "source": [
    "# 単純に買い続けたとき\n",
    "simple = race_result[\"hukusyo_return\"].cumsum()\n",
    "simple.plot(figsize=(12, 6))"
   ]
  },
  {
   "cell_type": "code",
   "execution_count": null,
   "metadata": {},
   "outputs": [
    {
     "ename": "",
     "evalue": "",
     "output_type": "error",
     "traceback": [
      "\u001b[1;31mJupyter を起動できません。Jupyter の検索中にエラーが発生しました: 'Python 3.8.9 64-bit' を使用した実行中のセルには jupyter および notebook パッケージが必要です。\n",
      "次のコマンドを実行して、'jupyter および notebook' を Python 環境にインストールします。\r\n",
      "コマンド: 'python -m pip install jupyter notebook -U\n",
      "or\n",
      "conda install jupyter notebook -U'\n",
      "詳細については<a href='https://aka.ms/installJupyterForVSCode'>こちら</a>をクリックしてください。"
     ]
    }
   ],
   "source": [
    "# blendの予測値を含める\n",
    "simple = race_result.loc[(race_result[\"blend\"]>30), 'hukusyo_return'].cumsum()\n",
    "simple.plot()"
   ]
  },
  {
   "cell_type": "code",
   "execution_count": null,
   "metadata": {},
   "outputs": [
    {
     "ename": "",
     "evalue": "",
     "output_type": "error",
     "traceback": [
      "\u001b[1;31mJupyter を起動できません。Jupyter の検索中にエラーが発生しました: 'Python 3.8.9 64-bit' を使用した実行中のセルには jupyter および notebook パッケージが必要です。\n",
      "次のコマンドを実行して、'jupyter および notebook' を Python 環境にインストールします。\r\n",
      "コマンド: 'python -m pip install jupyter notebook -U\n",
      "or\n",
      "conda install jupyter notebook -U'\n",
      "詳細については<a href='https://aka.ms/installJupyterForVSCode'>こちら</a>をクリックしてください。"
     ]
    }
   ],
   "source": [
    "# オッズがある範囲のとき\n",
    "simple = race_result.loc[((race_result[\"odds\"]>20.0) & (race_result[\"odds\"]<65)), 'hukusyo_return'].cumsum()\n",
    "simple.plot(figsize=(12, 6))"
   ]
  },
  {
   "cell_type": "code",
   "execution_count": null,
   "metadata": {},
   "outputs": [
    {
     "ename": "",
     "evalue": "",
     "output_type": "error",
     "traceback": [
      "\u001b[1;31mJupyter を起動できません。Jupyter の検索中にエラーが発生しました: 'Python 3.8.9 64-bit' を使用した実行中のセルには jupyter および notebook パッケージが必要です。\n",
      "次のコマンドを実行して、'jupyter および notebook' を Python 環境にインストールします。\r\n",
      "コマンド: 'python -m pip install jupyter notebook -U\n",
      "or\n",
      "conda install jupyter notebook -U'\n",
      "詳細については<a href='https://aka.ms/installJupyterForVSCode'>こちら</a>をクリックしてください。"
     ]
    }
   ],
   "source": []
  }
 ],
 "metadata": {
  "kernelspec": {
   "display_name": "Python 3.8.9 64-bit",
   "language": "python",
   "name": "python3"
  },
  "language_info": {
   "codemirror_mode": {
    "name": "ipython",
    "version": 3
   },
   "file_extension": ".py",
   "mimetype": "text/x-python",
   "name": "python",
   "nbconvert_exporter": "python",
   "pygments_lexer": "ipython3",
   "version": "3.8.9"
  },
  "vscode": {
   "interpreter": {
    "hash": "31f2aee4e71d21fbe5cf8b01ff0e069b9275f58929596ceb00d14d90e3e16cd6"
   }
  }
 },
 "nbformat": 4,
 "nbformat_minor": 2
}
